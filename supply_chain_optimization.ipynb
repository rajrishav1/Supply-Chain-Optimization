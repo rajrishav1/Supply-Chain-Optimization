{
 "cells": [
  {
   "cell_type": "code",
   "execution_count": 34,
   "id": "54b0cbc4-eaab-41cb-84b9-8bba7ae26019",
   "metadata": {},
   "outputs": [
    {
     "name": "stdout",
     "output_type": "stream",
     "text": [
      "Index(['Product type', 'SKU', 'Price', 'Availability',\n",
      "       'Number of products sold', 'Revenue generated', 'Customer demographics',\n",
      "       'Stock levels', 'Lead times', 'Order quantities', 'Shipping times',\n",
      "       'Shipping carriers', 'Shipping costs', 'Supplier name', 'Location',\n",
      "       'Lead time', 'Production volumes', 'Manufacturing lead time',\n",
      "       'Manufacturing costs', 'Inspection results', 'Defect rates',\n",
      "       'Transportation modes', 'Routes', 'Costs'],\n",
      "      dtype='object')\n"
     ]
    }
   ],
   "source": [
    "import pandas as pd\n",
    "\n",
    "# Check the available columns\n",
    "# Step 1: Load the dataset\n",
    "file_name = \"supply_chain_data.csv\"\n",
    "data = pd.read_csv(file_name)\n",
    "print(data.columns)\n"
   ]
  },
  {
   "cell_type": "code",
   "execution_count": 35,
   "id": "2f09725e-a137-47dd-b8b1-2b20de621de3",
   "metadata": {},
   "outputs": [
    {
     "name": "stdout",
     "output_type": "stream",
     "text": [
      "              Costs\n",
      "Routes             \n",
      "Route A  485.483128\n",
      "Route B  595.659028\n",
      "Route C  500.470985\n"
     ]
    }
   ],
   "source": [
    "# 1. Extract Transportation Costs (C_ij)\n",
    "transportation_costs = data[['Routes', 'Costs']].groupby('Routes').mean()\n",
    "print(transportation_costs)"
   ]
  },
  {
   "cell_type": "code",
   "execution_count": 36,
   "id": "c2970d7e-4f64-409b-8e55-862ccbdf9640",
   "metadata": {},
   "outputs": [
    {
     "name": "stdout",
     "output_type": "stream",
     "text": [
      "Product type\n",
      "cosmetics    1343\n",
      "haircare     1480\n",
      "skincare     2099\n",
      "Name: Order quantities, dtype: int64\n"
     ]
    }
   ],
   "source": [
    "# 2. Extract Demand for Products (D_j)\n",
    "demand = data.groupby('Product type')['Order quantities'].sum()\n",
    "print(demand)"
   ]
  },
  {
   "cell_type": "code",
   "execution_count": 37,
   "id": "b5fac9e2-81f7-4440-bc43-d224258f4a5b",
   "metadata": {},
   "outputs": [
    {
     "name": "stdout",
     "output_type": "stream",
     "text": [
      "Routes\n",
      "Route A    24250\n",
      "Route B    20039\n",
      "Route C    12495\n",
      "Name: Production volumes, dtype: int64\n"
     ]
    }
   ],
   "source": [
    "# 3. Extract Production Capacity (S_i)\n",
    "production_capacity = data.groupby('Routes')['Production volumes'].sum()\n",
    "print(production_capacity)"
   ]
  },
  {
   "cell_type": "code",
   "execution_count": 22,
   "id": "18451edf-f2e9-45a6-8b3e-1cb3286bd34b",
   "metadata": {},
   "outputs": [
    {
     "name": "stdout",
     "output_type": "stream",
     "text": [
      "Transportation Costs:\n",
      "              Costs\n",
      "Routes             \n",
      "Route A  485.483128\n",
      "Route B  595.659028\n",
      "Route C  500.470985\n",
      "Demand:\n",
      "Product type\n",
      "cosmetics    1343\n",
      "haircare     1480\n",
      "skincare     2099\n",
      "Name: Order quantities, dtype: int64\n",
      "Production Capacity:\n",
      "Routes\n",
      "Route A    24250\n",
      "Route B    20039\n",
      "Route C    12495\n",
      "Name: Production volumes, dtype: int64\n"
     ]
    }
   ],
   "source": [
    "# 5. Verify Data\n",
    "print(f\"Transportation Costs:\\n{transportation_costs}\")\n",
    "print(f\"Demand:\\n{demand}\")\n",
    "print(f\"Production Capacity:\\n{production_capacity}\")\n",
    "\n",
    "# 6. Save Relevant Data\n",
    "# Save for use in optimization\n",
    "transportation_costs.to_csv('transportation_costs.csv')\n",
    "demand.to_csv('demand.csv')\n",
    "production_capacity.to_csv('production_capacity.csv')\n"
   ]
  },
  {
   "cell_type": "code",
   "execution_count": 23,
   "id": "d9c0af0c-01a0-4d2a-8017-79029ae21b2d",
   "metadata": {},
   "outputs": [],
   "source": [
    "from pulp import LpProblem, LpMinimize, LpVariable, lpSum, value\n",
    "import pandas as pd\n"
   ]
  },
  {
   "cell_type": "code",
   "execution_count": 24,
   "id": "d47acf10-78e8-4791-bbd7-1ad0b16bf134",
   "metadata": {},
   "outputs": [
    {
     "ename": "NameError",
     "evalue": "name 'costs_df' is not defined",
     "output_type": "error",
     "traceback": [
      "\u001b[0;31m---------------------------------------------------------------------------\u001b[0m",
      "\u001b[0;31mNameError\u001b[0m                                 Traceback (most recent call last)",
      "Cell \u001b[0;32mIn[24], line 28\u001b[0m\n\u001b[1;32m     15\u001b[0m \u001b[38;5;66;03m# Transportation costs\u001b[39;00m\n\u001b[1;32m     16\u001b[0m costs \u001b[38;5;241m=\u001b[39m {\n\u001b[1;32m     17\u001b[0m     (\u001b[38;5;124m\"\u001b[39m\u001b[38;5;124mRoute A\u001b[39m\u001b[38;5;124m\"\u001b[39m, \u001b[38;5;124m\"\u001b[39m\u001b[38;5;124mcosmetics\u001b[39m\u001b[38;5;124m\"\u001b[39m): \u001b[38;5;241m485.48\u001b[39m,\n\u001b[1;32m     18\u001b[0m     (\u001b[38;5;124m\"\u001b[39m\u001b[38;5;124mRoute A\u001b[39m\u001b[38;5;124m\"\u001b[39m, \u001b[38;5;124m\"\u001b[39m\u001b[38;5;124mhaircare\u001b[39m\u001b[38;5;124m\"\u001b[39m): \u001b[38;5;241m485.48\u001b[39m,\n\u001b[0;32m   (...)\u001b[0m\n\u001b[1;32m     25\u001b[0m     (\u001b[38;5;124m\"\u001b[39m\u001b[38;5;124mRoute C\u001b[39m\u001b[38;5;124m\"\u001b[39m, \u001b[38;5;124m\"\u001b[39m\u001b[38;5;124mskincare\u001b[39m\u001b[38;5;124m\"\u001b[39m): \u001b[38;5;241m500.47\u001b[39m\n\u001b[1;32m     26\u001b[0m }\n\u001b[0;32m---> 28\u001b[0m \u001b[38;5;28mprint\u001b[39m(costs_df)\n",
      "\u001b[0;31mNameError\u001b[0m: name 'costs_df' is not defined"
     ]
    }
   ],
   "source": [
    "# Routes and their production capacities\n",
    "production_capacity = {\n",
    "    \"Route A\": 24250,\n",
    "    \"Route B\": 20039,\n",
    "    \"Route C\": 12495\n",
    "}\n",
    "\n",
    "# Products and their demand\n",
    "demand = {\n",
    "    \"cosmetics\": 1343,\n",
    "    \"haircare\": 1480,\n",
    "    \"skincare\": 2099\n",
    "}\n",
    "\n",
    "# Transportation costs\n",
    "costs = {\n",
    "    (\"Route A\", \"cosmetics\"): 485.48,\n",
    "    (\"Route A\", \"haircare\"): 485.48,\n",
    "    (\"Route A\", \"skincare\"): 485.48,\n",
    "    (\"Route B\", \"cosmetics\"): 595.66,\n",
    "    (\"Route B\", \"haircare\"): 595.66,\n",
    "    (\"Route B\", \"skincare\"): 595.66,\n",
    "    (\"Route C\", \"cosmetics\"): 500.47,\n",
    "    (\"Route C\", \"haircare\"): 500.47,\n",
    "    (\"Route C\", \"skincare\"): 500.47\n",
    "}"
   ]
  },
  {
   "cell_type": "code",
   "execution_count": 25,
   "id": "6b7adaaf-d511-469c-ae72-42d5e5185ba5",
   "metadata": {},
   "outputs": [
    {
     "name": "stdout",
     "output_type": "stream",
     "text": [
      "     Route  Production Capacity\n",
      "0  Route A                24250\n",
      "1  Route B                20039\n",
      "2  Route C                12495\n"
     ]
    }
   ],
   "source": [
    "# Create a DataFrame for production capacity\n",
    "prod_capacity_df = pd.DataFrame(list(production_capacity.items()), columns=[\"Route\", \"Production Capacity\"])\n",
    "print(prod_capacity_df)\n"
   ]
  },
  {
   "cell_type": "code",
   "execution_count": 26,
   "id": "932162d4-93ae-4798-abd9-d291df7a4410",
   "metadata": {},
   "outputs": [
    {
     "name": "stdout",
     "output_type": "stream",
     "text": [
      "     Product  Demand\n",
      "0  cosmetics    1343\n",
      "1   haircare    1480\n",
      "2   skincare    2099\n"
     ]
    }
   ],
   "source": [
    "# Create a DataFrame for demand\n",
    "demand_df = pd.DataFrame(list(demand.items()), columns=[\"Product\", \"Demand\"])\n",
    "print(demand_df)\n"
   ]
  },
  {
   "cell_type": "code",
   "execution_count": 27,
   "id": "7920432d-47fe-49d8-ad00-74c2b0516ad1",
   "metadata": {},
   "outputs": [
    {
     "name": "stdout",
     "output_type": "stream",
     "text": [
      "Product    Route  cosmetics  haircare  skincare\n",
      "0        Route A     485.48    485.48    485.48\n",
      "1        Route B     595.66    595.66    595.66\n",
      "2        Route C     500.47    500.47    500.47\n"
     ]
    }
   ],
   "source": [
    "# Create DataFrame for costs\n",
    "costs_df = pd.DataFrame(list(costs.items()), columns=[\"Route & Product\", \"Cost\"])\n",
    "costs_df[[\"Route\", \"Product\"]] = pd.DataFrame(costs_df[\"Route & Product\"].tolist(), index=costs_df.index)\n",
    "costs_df = costs_df.drop(columns=[\"Route & Product\"])\n",
    "costs_df = costs_df.pivot(index=\"Route\", columns=\"Product\", values=\"Cost\").reset_index()\n",
    "print(costs_df)\n"
   ]
  },
  {
   "cell_type": "markdown",
   "id": "3a8ff9ec-b38c-487b-80d7-13aec0c7eb33",
   "metadata": {},
   "source": [
    "## ***Decision***"
   ]
  },
  {
   "cell_type": "code",
   "execution_count": 28,
   "id": "ccfcf1f8-2651-4c3e-9989-3ae54033bd94",
   "metadata": {},
   "outputs": [],
   "source": [
    "# Create the optimization model\n",
    "model = LpProblem(\"Supply_Chain_Optimization\", LpMinimize)\n",
    "\n",
    "# Decision variables: Quantity of each product transported via each route (as integers)\n",
    "X = LpVariable.dicts(\n",
    "    \"Transport\",\n",
    "    [(route, product) for route in production_capacity.keys() for product in demand.keys()],\n",
    "    lowBound=0,\n",
    "    cat='Integer'  # Change from 'Continuous' to 'Integer'\n",
    ")\n"
   ]
  },
  {
   "cell_type": "markdown",
   "id": "02b6237e-6eb6-48e8-b8a1-8ef453abded1",
   "metadata": {},
   "source": [
    "## ***Objective***"
   ]
  },
  {
   "cell_type": "code",
   "execution_count": 29,
   "id": "c8d61de3-87b6-48f5-bc5d-025f6c39563d",
   "metadata": {},
   "outputs": [],
   "source": [
    "# Objective function: Minimize total transportation cost\n",
    "model += lpSum([costs[(route, product)] * X[(route, product)] for route, product in X])\n"
   ]
  },
  {
   "cell_type": "markdown",
   "id": "52ec6731-842c-40b2-ae73-5236b6a777f7",
   "metadata": {},
   "source": [
    "## ***Constraints***"
   ]
  },
  {
   "cell_type": "markdown",
   "id": "f0ba3a3a-a9e9-45ec-bfc6-7484617fafee",
   "metadata": {},
   "source": [
    "#### ***Demand Satisfaction***"
   ]
  },
  {
   "cell_type": "code",
   "execution_count": 30,
   "id": "b603a595-ea1a-42c4-90b4-b2fc4db913fc",
   "metadata": {},
   "outputs": [],
   "source": [
    "for product in demand.keys():\n",
    "    model += lpSum([X[(route, product)] for route in production_capacity.keys()]) >= demand[product], f\"Demand_{product}\"\n"
   ]
  },
  {
   "cell_type": "markdown",
   "id": "a4469bdd-5378-49be-b719-638d40f7cfc5",
   "metadata": {},
   "source": [
    "#### ***Production Capacity***"
   ]
  },
  {
   "cell_type": "code",
   "execution_count": 31,
   "id": "d979f574-efd6-4d56-b992-c19e28fdd898",
   "metadata": {},
   "outputs": [],
   "source": [
    "for route in production_capacity.keys():\n",
    "    model += lpSum([X[(route, product)] for product in demand.keys()]) <= production_capacity[route], f\"Capacity_{route}\"\n"
   ]
  },
  {
   "cell_type": "markdown",
   "id": "e88e0353-aa30-46d6-9d56-e80ef51b989b",
   "metadata": {},
   "source": [
    "#### ***Fair Distribution***"
   ]
  },
  {
   "cell_type": "code",
   "execution_count": 32,
   "id": "bde8461c-0caf-42b3-af33-ed0837f1ee5b",
   "metadata": {},
   "outputs": [],
   "source": [
    "# Calculate the total demand\n",
    "total_demand = sum(demand.values())\n",
    "\n",
    "# Add fair distribution constraint: Each route must handle at least 10% of the total demand\n",
    "fair_share = 0.1  # Minimum proportion of total demand for each route\n",
    "for route in production_capacity.keys():\n",
    "    model += lpSum([X[(route, product)] for product in demand.keys()]) >= fair_share * total_demand, f\"Fair_Share_{route}\"\n"
   ]
  },
  {
   "cell_type": "markdown",
   "id": "203d870f-b45e-4720-9e23-9a432f640d19",
   "metadata": {},
   "source": [
    "## ***Optimize Solution***"
   ]
  },
  {
   "cell_type": "code",
   "execution_count": 33,
   "id": "767cfbe6-d758-40b6-8593-2407b2426784",
   "metadata": {},
   "outputs": [
    {
     "name": "stdout",
     "output_type": "stream",
     "text": [
      "Welcome to the CBC MILP Solver \n",
      "Version: 2.10.3 \n",
      "Build Date: Dec 15 2019 \n",
      "\n",
      "command line - /opt/anaconda3/lib/python3.12/site-packages/pulp/solverdir/cbc/osx/64/cbc /var/folders/mh/9kjbqf2n1g9986vkzqxgmc1h0000gn/T/cabd2b92f55f42c2bbdf47ac9f696279-pulp.mps -timeMode elapsed -branch -printingOptions all -solution /var/folders/mh/9kjbqf2n1g9986vkzqxgmc1h0000gn/T/cabd2b92f55f42c2bbdf47ac9f696279-pulp.sol (default strategy 1)\n",
      "At line 2 NAME          MODEL\n",
      "At line 3 ROWS\n",
      "At line 14 COLUMNS\n",
      "At line 69 RHS\n",
      "At line 79 BOUNDS\n",
      "At line 89 ENDATA\n",
      "Problem MODEL has 9 rows, 9 columns and 27 elements\n",
      "Coin0008I MODEL read with 0 errors\n",
      "Option for timeMode changed from cpu to elapsed\n",
      "Continuous objective value is 2.45114e+06 - 0.00 seconds\n",
      "Cgl0004I processed model has 6 rows, 9 columns (9 integer (0 of which binary)) and 18 elements\n",
      "Cutoff increment increased from 1e-05 to 0.00999\n",
      "Cbc0012I Integer solution of 2452212.3 found by DiveCoefficient after 0 iterations and 0 nodes (0.01 seconds)\n",
      "Cbc0038I Full problem 6 rows 9 columns, reduced to 3 rows 5 columns\n",
      "Cbc0012I Integer solution of 2451241.4 found by DiveCoefficient after 2 iterations and 0 nodes (0.02 seconds)\n",
      "Cbc0031I 2 added rows had average density of 3\n",
      "Cbc0013I At root node, 2 cuts changed objective from 2451141.2 to 2451241.4 in 2 passes\n",
      "Cbc0014I Cut generator 0 (Probing) - 0 row cuts average 0.0 elements, 1 column cuts (1 active)  in 0.000 seconds - new frequency is 1\n",
      "Cbc0014I Cut generator 1 (Gomory) - 3 row cuts average 4.0 elements, 0 column cuts (0 active)  in 0.000 seconds - new frequency is 1\n",
      "Cbc0014I Cut generator 2 (Knapsack) - 0 row cuts average 0.0 elements, 0 column cuts (0 active)  in 0.000 seconds - new frequency is -100\n",
      "Cbc0014I Cut generator 3 (Clique) - 0 row cuts average 0.0 elements, 0 column cuts (0 active)  in 0.000 seconds - new frequency is -100\n",
      "Cbc0014I Cut generator 4 (MixedIntegerRounding2) - 2 row cuts average 3.0 elements, 0 column cuts (0 active)  in 0.000 seconds - new frequency is 1\n",
      "Cbc0014I Cut generator 5 (FlowCover) - 0 row cuts average 0.0 elements, 0 column cuts (0 active)  in 0.000 seconds - new frequency is -100\n",
      "Cbc0014I Cut generator 6 (TwoMirCuts) - 3 row cuts average 2.0 elements, 0 column cuts (0 active)  in 0.000 seconds - new frequency is -100\n",
      "Cbc0001I Search completed - best objective 2451241.37, took 2 iterations and 0 nodes (0.02 seconds)\n",
      "Cbc0035I Maximum depth 0, 0 variables fixed on reduced cost\n",
      "Cuts at root node changed objective from 2.45114e+06 to 2.45124e+06\n",
      "Probing was tried 2 times and created 1 cuts of which 0 were active after adding rounds of cuts (0.000 seconds)\n",
      "Gomory was tried 2 times and created 3 cuts of which 0 were active after adding rounds of cuts (0.000 seconds)\n",
      "Knapsack was tried 2 times and created 0 cuts of which 0 were active after adding rounds of cuts (0.000 seconds)\n",
      "Clique was tried 2 times and created 0 cuts of which 0 were active after adding rounds of cuts (0.000 seconds)\n",
      "MixedIntegerRounding2 was tried 2 times and created 2 cuts of which 0 were active after adding rounds of cuts (0.000 seconds)\n",
      "FlowCover was tried 2 times and created 0 cuts of which 0 were active after adding rounds of cuts (0.000 seconds)\n",
      "TwoMirCuts was tried 2 times and created 3 cuts of which 0 were active after adding rounds of cuts (0.000 seconds)\n",
      "ZeroHalf was tried 1 times and created 0 cuts of which 0 were active after adding rounds of cuts (0.000 seconds)\n",
      "\n",
      "Result - Optimal solution found\n",
      "\n",
      "Objective value:                2451241.37000000\n",
      "Enumerated nodes:               0\n",
      "Total iterations:               2\n",
      "Time (CPU seconds):             0.01\n",
      "Time (Wallclock seconds):       0.02\n",
      "\n",
      "Option for printingOptions changed from normal to all\n",
      "Total time (CPU seconds):       0.01   (Wallclock seconds):       0.02\n",
      "\n",
      "('Route A', 'cosmetics'): 357.0 tons transported.\n",
      "('Route A', 'haircare'): 1480.0 tons transported.\n",
      "('Route A', 'skincare'): 2099.0 tons transported.\n",
      "('Route B', 'cosmetics'): 493.0 tons transported.\n",
      "('Route B', 'haircare'): 0.0 tons transported.\n",
      "('Route B', 'skincare'): 0.0 tons transported.\n",
      "('Route C', 'cosmetics'): 493.0 tons transported.\n",
      "('Route C', 'haircare'): 0.0 tons transported.\n",
      "('Route C', 'skincare'): 0.0 tons transported.\n",
      "Total Cost: $2451241.37\n"
     ]
    }
   ],
   "source": [
    "# Solve the problem\n",
    "model.solve()\n",
    "\n",
    "# Output results\n",
    "for var in X:\n",
    "    print(f\"{var}: {X[var].value()} tons transported.\")\n",
    "print(f\"Total Cost: ${model.objective.value()}\")\n"
   ]
  },
  {
   "cell_type": "code",
   "execution_count": null,
   "id": "e6bcf5ba-a4a0-4267-a9bf-39c2770c4516",
   "metadata": {},
   "outputs": [],
   "source": []
  },
  {
   "cell_type": "code",
   "execution_count": null,
   "id": "45f06a6a-dd9e-4cec-8bff-51dae7e94e7d",
   "metadata": {},
   "outputs": [],
   "source": []
  }
 ],
 "metadata": {
  "kernelspec": {
   "display_name": "Python 3 (ipykernel)",
   "language": "python",
   "name": "python3"
  },
  "language_info": {
   "codemirror_mode": {
    "name": "ipython",
    "version": 3
   },
   "file_extension": ".py",
   "mimetype": "text/x-python",
   "name": "python",
   "nbconvert_exporter": "python",
   "pygments_lexer": "ipython3",
   "version": "3.12.4"
  }
 },
 "nbformat": 4,
 "nbformat_minor": 5
}
